{
 "cells": [
  {
   "attachments": {},
   "cell_type": "markdown",
   "metadata": {},
   "source": [
    "In this notebook, we are going to load the data we have prepared in the previous notebook in our Data Warehouse based on Postgres. We will also create a function to load the data in the future."
   ]
  },
  {
   "cell_type": "code",
   "execution_count": 77,
   "metadata": {},
   "outputs": [],
   "source": [
    "import numpy as np\n",
    "import pandas as pd\n",
    "import psycopg2"
   ]
  },
  {
   "cell_type": "code",
   "execution_count": 61,
   "metadata": {},
   "outputs": [],
   "source": [
    "def insert_row(table, row):\n",
    "    \"\"\" insert a new row into the table \"\"\"\n",
    "    sql = \"INSERT INTO \" + table + \" VALUES (%s\" + \", %s\" * (len(row)-1) + \");\"\n",
    "    conn = None\n",
    "    vendor_id = None\n",
    "    try:\n",
    "        # connect to the PostgreSQL database\n",
    "        conn = psycopg2.connect(database=\"moroccan_banks\", user=\"postgres\" , password=\"postgres\" , host=\"localhost\")\n",
    "        # create a new cursor\n",
    "        cur = conn.cursor()\n",
    "        # execute the INSERT statement\n",
    "        cur.execute(sql, row)\n",
    "        # commit the changes to the database\n",
    "        conn.commit()\n",
    "        # close communication with the database\n",
    "        cur.close()\n",
    "    except (Exception, psycopg2.DatabaseError) as error:\n",
    "        print(error)\n",
    "    finally:\n",
    "        if conn is not None:\n",
    "            conn.close()"
   ]
  },
  {
   "cell_type": "code",
   "execution_count": 62,
   "metadata": {},
   "outputs": [],
   "source": [
    "def insert_rows(table, rows):\n",
    "    \"\"\" insert multiple rows into the table  \"\"\"\n",
    "    sql = \"INSERT INTO \" + table + \" VALUES (%s\" + \", %s\" * (len(rows[0])-1) + \");\"\n",
    "    conn = None\n",
    "    try:\n",
    "        # connect to the PostgreSQL database\n",
    "        conn = psycopg2.connect(database=\"moroccan_banks\", user=\"postgres\" , password=\"postgres\" , host=\"localhost\")\n",
    "        # create a new cursor\n",
    "        cur = conn.cursor()\n",
    "        # execute the INSERT statement\n",
    "        cur.executemany(sql, rows)\n",
    "        # commit the changes to the database\n",
    "        conn.commit()\n",
    "        # close communication with the database\n",
    "        cur.close()\n",
    "    except (Exception, psycopg2.DatabaseError) as error:\n",
    "        print(error)\n",
    "    finally:\n",
    "        if conn is not None:\n",
    "            conn.close()"
   ]
  },
  {
   "cell_type": "code",
   "execution_count": 63,
   "metadata": {},
   "outputs": [],
   "source": [
    "# test the function for 1 row\n",
    "# insert_row(\"fact_table\" ,(1, 1, '2021-04-29', 4.5, 7, 3.4, 32, 18))\n",
    "\n",
    "# test the function for multiple rows\n",
    "# insert_rows('reviews', [(2, 'test', 'test', 'test'), (3, 'test', 'test', 'test')])"
   ]
  },
  {
   "cell_type": "code",
   "execution_count": 79,
   "metadata": {},
   "outputs": [],
   "source": [
    "# load our datasets\n",
    "banks = pd.read_excel('../data/processed/banks.xlsx')\n",
    "reviews = pd.read_excel('../data/processed/reviews_cleaned.xlsx')"
   ]
  },
  {
   "cell_type": "code",
   "execution_count": 80,
   "metadata": {},
   "outputs": [
    {
     "data": {
      "text/plain": [
       "(Index(['bank_id', 'bank_title', 'bank_category', 'bank_adress', 'bank_city',\n",
       "        'bank_phone', 'bank_rank', 'bank_reviews_count', 'bank_score',\n",
       "        'bank_latitude', 'bank_longitude'],\n",
       "       dtype='object'),\n",
       " Index(['review_id', 'bank_id', 'review_date', 'review_stars', 'review_text',\n",
       "        'reviewer_name', 'review_sentiment'],\n",
       "       dtype='object'))"
      ]
     },
     "execution_count": 80,
     "metadata": {},
     "output_type": "execute_result"
    }
   ],
   "source": [
    "banks.columns, reviews.columns"
   ]
  },
  {
   "cell_type": "code",
   "execution_count": 81,
   "metadata": {},
   "outputs": [],
   "source": [
    "# get data for each table\n",
    "banks_table = banks[['bank_id', 'bank_title', 'bank_category', 'bank_adress', 'bank_city', 'bank_phone', 'bank_rank']]"
   ]
  },
  {
   "cell_type": "code",
   "execution_count": 82,
   "metadata": {},
   "outputs": [],
   "source": [
    "reviews_table = reviews[['review_id', 'review_text', 'reviewer_name', 'review_sentiment']]"
   ]
  },
  {
   "cell_type": "code",
   "execution_count": 86,
   "metadata": {},
   "outputs": [],
   "source": [
    "facts_table = pd.merge(reviews, banks, on='bank_id', how='inner')[['review_id', 'bank_id', 'review_date', 'review_stars', 'bank_reviews_count', 'bank_score','bank_latitude', 'bank_longitude']]"
   ]
  },
  {
   "cell_type": "code",
   "execution_count": 84,
   "metadata": {},
   "outputs": [
    {
     "data": {
      "text/plain": [
       "(Index(['bank_id', 'bank_title', 'bank_category', 'bank_adress', 'bank_city',\n",
       "        'bank_phone', 'bank_rank'],\n",
       "       dtype='object'),\n",
       " Index(['review_id', 'review_text', 'reviewer_name', 'review_sentiment'], dtype='object'),\n",
       " Index(['review_id', 'bank_id', 'review_date', 'review_stars',\n",
       "        'bank_reviews_count', 'bank_score', 'bank_latitude', 'bank_longitude'],\n",
       "       dtype='object'))"
      ]
     },
     "execution_count": 84,
     "metadata": {},
     "output_type": "execute_result"
    }
   ],
   "source": [
    "banks_table.columns, reviews_table.columns, fact_table.columns"
   ]
  },
  {
   "attachments": {},
   "cell_type": "markdown",
   "metadata": {},
   "source": [
    "Our dataset seem to be matching the schema we have created for our data warehouse. It is time to load the data."
   ]
  },
  {
   "cell_type": "code",
   "execution_count": 91,
   "metadata": {},
   "outputs": [],
   "source": [
    "# load data into the database\n",
    "insert_rows('banks', banks_table.values.tolist())\n",
    "insert_rows('reviews', reviews_table.values.tolist())\n",
    "insert_rows('facts', facts_table.values.tolist())"
   ]
  }
 ],
 "metadata": {
  "kernelspec": {
   "display_name": "base",
   "language": "python",
   "name": "python3"
  },
  "language_info": {
   "codemirror_mode": {
    "name": "ipython",
    "version": 3
   },
   "file_extension": ".py",
   "mimetype": "text/x-python",
   "name": "python",
   "nbconvert_exporter": "python",
   "pygments_lexer": "ipython3",
   "version": "3.10.10"
  },
  "orig_nbformat": 4
 },
 "nbformat": 4,
 "nbformat_minor": 2
}
