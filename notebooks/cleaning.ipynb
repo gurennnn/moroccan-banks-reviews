{
 "cells": [
  {
   "attachments": {},
   "cell_type": "markdown",
   "id": "186c7d33",
   "metadata": {},
   "source": [
    "In this notebook, we are going to look at our raw dataset `banks.xlsx` for cleaning purposes. We will be using the `pandas` library to help us with this task."
   ]
  },
  {
   "cell_type": "code",
   "execution_count": 85,
   "id": "ed87c92c",
   "metadata": {},
   "outputs": [],
   "source": [
    "# import libraries\n",
    "import numpy as np\n",
    "import pandas as pd"
   ]
  },
  {
   "cell_type": "code",
   "execution_count": 86,
   "id": "4546ab82",
   "metadata": {},
   "outputs": [],
   "source": [
    "# load the data\n",
    "df = pd.read_excel(\"../data/raw/banks_raw.xlsx\")"
   ]
  },
  {
   "cell_type": "code",
   "execution_count": 87,
   "id": "a7ec4428",
   "metadata": {},
   "outputs": [
    {
     "data": {
      "text/plain": [
       "Index(['address', 'categoryName', 'cid', 'city', 'location/lat',\n",
       "       'location/lng', 'phone', 'rank', 'reviewsCount', 'title', 'totalScore',\n",
       "       'reviewId', 'publishedAtDate', 'stars', 'text', 'textTranslated',\n",
       "       'reviewerId', 'reviewerNumberOfReviews', 'name'],\n",
       "      dtype='object')"
      ]
     },
     "execution_count": 87,
     "metadata": {},
     "output_type": "execute_result"
    }
   ],
   "source": [
    "df.columns"
   ]
  },
  {
   "attachments": {},
   "cell_type": "markdown",
   "id": "b0e1755b",
   "metadata": {},
   "source": [
    "We need to change some columns names, look at the data types ..."
   ]
  },
  {
   "cell_type": "code",
   "execution_count": 88,
   "id": "6c239054",
   "metadata": {},
   "outputs": [],
   "source": [
    "df.columns = ['bank_adress', 'bank_category', 'bank_id', 'bank_city', 'latitude', 'longitude', 'bank_phone', 'bank_rank', 'reviews_count', 'bank_title', 'bank_score', 'review_id', 'review_date', 'review_stars', 'review_text', 'review_text_translated', 'reviewer_id', 'reviewer_num_reviews', 'reviewer_name']"
   ]
  },
  {
   "cell_type": "code",
   "execution_count": 89,
   "id": "54321ae5",
   "metadata": {},
   "outputs": [
    {
     "data": {
      "text/html": [
       "<div>\n",
       "<style scoped>\n",
       "    .dataframe tbody tr th:only-of-type {\n",
       "        vertical-align: middle;\n",
       "    }\n",
       "\n",
       "    .dataframe tbody tr th {\n",
       "        vertical-align: top;\n",
       "    }\n",
       "\n",
       "    .dataframe thead th {\n",
       "        text-align: right;\n",
       "    }\n",
       "</style>\n",
       "<table border=\"1\" class=\"dataframe\">\n",
       "  <thead>\n",
       "    <tr style=\"text-align: right;\">\n",
       "      <th></th>\n",
       "      <th>bank_adress</th>\n",
       "      <th>bank_category</th>\n",
       "      <th>bank_id</th>\n",
       "      <th>bank_city</th>\n",
       "      <th>latitude</th>\n",
       "      <th>longitude</th>\n",
       "      <th>bank_phone</th>\n",
       "      <th>bank_rank</th>\n",
       "      <th>reviews_count</th>\n",
       "      <th>bank_title</th>\n",
       "      <th>bank_score</th>\n",
       "      <th>review_id</th>\n",
       "      <th>review_date</th>\n",
       "      <th>review_stars</th>\n",
       "      <th>review_text</th>\n",
       "      <th>review_text_translated</th>\n",
       "      <th>reviewer_id</th>\n",
       "      <th>reviewer_num_reviews</th>\n",
       "      <th>reviewer_name</th>\n",
       "    </tr>\n",
       "  </thead>\n",
       "  <tbody>\n",
       "    <tr>\n",
       "      <th>0</th>\n",
       "      <td>Rue Abou Abdellah Nafii, Casablanca 20250, Maroc</td>\n",
       "      <td>Banque</td>\n",
       "      <td>608978182545380096</td>\n",
       "      <td>Casablanca</td>\n",
       "      <td>33.585603</td>\n",
       "      <td>-7.633682</td>\n",
       "      <td>NaN</td>\n",
       "      <td>20</td>\n",
       "      <td>8</td>\n",
       "      <td>Bank Of Africa, Agence Al Massira, Maarif.</td>\n",
       "      <td>3.1</td>\n",
       "      <td>NaN</td>\n",
       "      <td>2023-02-27T15:53:13.594Z</td>\n",
       "      <td>5.0</td>\n",
       "      <td>Une très belle équipe .\\nJe recommande spécial...</td>\n",
       "      <td>NaN</td>\n",
       "      <td>NaN</td>\n",
       "      <td>12.0</td>\n",
       "      <td>NaN</td>\n",
       "    </tr>\n",
       "    <tr>\n",
       "      <th>1</th>\n",
       "      <td>Rue Abou Abdellah Nafii, Casablanca 20250, Maroc</td>\n",
       "      <td>Banque</td>\n",
       "      <td>608978182545380096</td>\n",
       "      <td>Casablanca</td>\n",
       "      <td>33.585603</td>\n",
       "      <td>-7.633682</td>\n",
       "      <td>NaN</td>\n",
       "      <td>20</td>\n",
       "      <td>8</td>\n",
       "      <td>Bank Of Africa, Agence Al Massira, Maarif.</td>\n",
       "      <td>3.1</td>\n",
       "      <td>NaN</td>\n",
       "      <td>2022-09-28T09:38:14.263Z</td>\n",
       "      <td>5.0</td>\n",
       "      <td>NaN</td>\n",
       "      <td>NaN</td>\n",
       "      <td>NaN</td>\n",
       "      <td>0.0</td>\n",
       "      <td>NaN</td>\n",
       "    </tr>\n",
       "    <tr>\n",
       "      <th>2</th>\n",
       "      <td>Rue Abou Abdellah Nafii, Casablanca 20250, Maroc</td>\n",
       "      <td>Banque</td>\n",
       "      <td>608978182545380096</td>\n",
       "      <td>Casablanca</td>\n",
       "      <td>33.585603</td>\n",
       "      <td>-7.633682</td>\n",
       "      <td>NaN</td>\n",
       "      <td>20</td>\n",
       "      <td>8</td>\n",
       "      <td>Bank Of Africa, Agence Al Massira, Maarif.</td>\n",
       "      <td>3.1</td>\n",
       "      <td>NaN</td>\n",
       "      <td>2022-05-27T18:42:53.897Z</td>\n",
       "      <td>2.0</td>\n",
       "      <td>NaN</td>\n",
       "      <td>NaN</td>\n",
       "      <td>NaN</td>\n",
       "      <td>49.0</td>\n",
       "      <td>NaN</td>\n",
       "    </tr>\n",
       "    <tr>\n",
       "      <th>3</th>\n",
       "      <td>Rue Abou Abdellah Nafii, Casablanca 20250, Maroc</td>\n",
       "      <td>Banque</td>\n",
       "      <td>608978182545380096</td>\n",
       "      <td>Casablanca</td>\n",
       "      <td>33.585603</td>\n",
       "      <td>-7.633682</td>\n",
       "      <td>NaN</td>\n",
       "      <td>20</td>\n",
       "      <td>8</td>\n",
       "      <td>Bank Of Africa, Agence Al Massira, Maarif.</td>\n",
       "      <td>3.1</td>\n",
       "      <td>NaN</td>\n",
       "      <td>2022-04-08T13:10:33.584Z</td>\n",
       "      <td>1.0</td>\n",
       "      <td>NaN</td>\n",
       "      <td>NaN</td>\n",
       "      <td>NaN</td>\n",
       "      <td>2.0</td>\n",
       "      <td>NaN</td>\n",
       "    </tr>\n",
       "    <tr>\n",
       "      <th>4</th>\n",
       "      <td>Rue Abou Abdellah Nafii, Casablanca 20250, Maroc</td>\n",
       "      <td>Banque</td>\n",
       "      <td>608978182545380096</td>\n",
       "      <td>Casablanca</td>\n",
       "      <td>33.585603</td>\n",
       "      <td>-7.633682</td>\n",
       "      <td>NaN</td>\n",
       "      <td>20</td>\n",
       "      <td>8</td>\n",
       "      <td>Bank Of Africa, Agence Al Massira, Maarif.</td>\n",
       "      <td>3.1</td>\n",
       "      <td>NaN</td>\n",
       "      <td>2022-01-08T15:36:51.089Z</td>\n",
       "      <td>1.0</td>\n",
       "      <td>Mauvais service client</td>\n",
       "      <td>NaN</td>\n",
       "      <td>NaN</td>\n",
       "      <td>2.0</td>\n",
       "      <td>NaN</td>\n",
       "    </tr>\n",
       "  </tbody>\n",
       "</table>\n",
       "</div>"
      ],
      "text/plain": [
       "                                        bank_adress bank_category   \n",
       "0  Rue Abou Abdellah Nafii, Casablanca 20250, Maroc        Banque  \\\n",
       "1  Rue Abou Abdellah Nafii, Casablanca 20250, Maroc        Banque   \n",
       "2  Rue Abou Abdellah Nafii, Casablanca 20250, Maroc        Banque   \n",
       "3  Rue Abou Abdellah Nafii, Casablanca 20250, Maroc        Banque   \n",
       "4  Rue Abou Abdellah Nafii, Casablanca 20250, Maroc        Banque   \n",
       "\n",
       "              bank_id   bank_city   latitude  longitude bank_phone  bank_rank   \n",
       "0  608978182545380096  Casablanca  33.585603  -7.633682        NaN         20  \\\n",
       "1  608978182545380096  Casablanca  33.585603  -7.633682        NaN         20   \n",
       "2  608978182545380096  Casablanca  33.585603  -7.633682        NaN         20   \n",
       "3  608978182545380096  Casablanca  33.585603  -7.633682        NaN         20   \n",
       "4  608978182545380096  Casablanca  33.585603  -7.633682        NaN         20   \n",
       "\n",
       "   reviews_count                                  bank_title  bank_score   \n",
       "0              8  Bank Of Africa, Agence Al Massira, Maarif.         3.1  \\\n",
       "1              8  Bank Of Africa, Agence Al Massira, Maarif.         3.1   \n",
       "2              8  Bank Of Africa, Agence Al Massira, Maarif.         3.1   \n",
       "3              8  Bank Of Africa, Agence Al Massira, Maarif.         3.1   \n",
       "4              8  Bank Of Africa, Agence Al Massira, Maarif.         3.1   \n",
       "\n",
       "  review_id               review_date  review_stars   \n",
       "0       NaN  2023-02-27T15:53:13.594Z           5.0  \\\n",
       "1       NaN  2022-09-28T09:38:14.263Z           5.0   \n",
       "2       NaN  2022-05-27T18:42:53.897Z           2.0   \n",
       "3       NaN  2022-04-08T13:10:33.584Z           1.0   \n",
       "4       NaN  2022-01-08T15:36:51.089Z           1.0   \n",
       "\n",
       "                                         review_text review_text_translated   \n",
       "0  Une très belle équipe .\\nJe recommande spécial...                    NaN  \\\n",
       "1                                                NaN                    NaN   \n",
       "2                                                NaN                    NaN   \n",
       "3                                                NaN                    NaN   \n",
       "4                             Mauvais service client                    NaN   \n",
       "\n",
       "  reviewer_id  reviewer_num_reviews reviewer_name  \n",
       "0         NaN                  12.0           NaN  \n",
       "1         NaN                   0.0           NaN  \n",
       "2         NaN                  49.0           NaN  \n",
       "3         NaN                   2.0           NaN  \n",
       "4         NaN                   2.0           NaN  "
      ]
     },
     "execution_count": 89,
     "metadata": {},
     "output_type": "execute_result"
    }
   ],
   "source": [
    "df.head()"
   ]
  },
  {
   "cell_type": "code",
   "execution_count": 90,
   "id": "82ec8b76",
   "metadata": {},
   "outputs": [],
   "source": [
    "# drop duplicates reviews\n",
    "df = df.drop_duplicates()"
   ]
  },
  {
   "cell_type": "code",
   "execution_count": 91,
   "id": "81244a55",
   "metadata": {},
   "outputs": [
    {
     "data": {
      "text/plain": [
       "array(['Casablanca', 'Rabat', 'Rabat Hassan', 'Fès', 'Marrakech',\n",
       "       'Tanger', 'Al Hoceïma', 'Meknès', 'Safi', 'Nador', 'Kénitra',\n",
       "       'El Jadida', 'Tétouan', 'Khouribga', 'Zagora', 'Dakhla',\n",
       "       'Laayoune', 'Laâyoune', 'Settat', 'Guisser', 'Ouarzazate',\n",
       "       'Guelmim', 'Berrchid', 'Sidi Ifni', 'Berkane', 'Sefrou',\n",
       "       'Taounate', 'Khémisset', 'Essaouira', 'Boujdour'], dtype=object)"
      ]
     },
     "execution_count": 91,
     "metadata": {},
     "output_type": "execute_result"
    }
   ],
   "source": [
    "df['bank_city'].unique()"
   ]
  },
  {
   "attachments": {},
   "cell_type": "markdown",
   "id": "c8a83041",
   "metadata": {},
   "source": [
    "We notice that there are some cities that are written in different ways, we need to fix that."
   ]
  },
  {
   "cell_type": "code",
   "execution_count": 92,
   "id": "68d7ffcc",
   "metadata": {},
   "outputs": [
    {
     "data": {
      "text/plain": [
       "array(['Casablanca', 'Rabat', 'Fès', 'Marrakech', 'Tanger', 'Al Hoceïma',\n",
       "       'Meknès', 'Safi', 'Nador', 'Kénitra', 'El Jadida', 'Tétouan',\n",
       "       'Khouribga', 'Zagora', 'Dakhla', 'Laâyoune', 'Settat', 'Guisser',\n",
       "       'Ouarzazate', 'Guelmim', 'Berrchid', 'Sidi Ifni', 'Berkane',\n",
       "       'Sefrou', 'Taounate', 'Khémisset', 'Essaouira', 'Boujdour'],\n",
       "      dtype=object)"
      ]
     },
     "execution_count": 92,
     "metadata": {},
     "output_type": "execute_result"
    }
   ],
   "source": [
    "df.loc[df['bank_city'] == 'Rabat Hassan', 'bank_city'] = 'Rabat'\n",
    "df.loc[df['bank_city'] == 'Laayoune', 'bank_city'] = 'Laâyoune'\n",
    "df['bank_city'].unique()"
   ]
  },
  {
   "attachments": {},
   "cell_type": "markdown",
   "id": "017df572",
   "metadata": {},
   "source": [
    "Cities are now clean."
   ]
  },
  {
   "cell_type": "code",
   "execution_count": 93,
   "id": "20a3882f",
   "metadata": {},
   "outputs": [
    {
     "data": {
      "text/plain": [
       "array(['Banque', \"Service de transfert d'argent\",\n",
       "       \"Service de transfert d'argent par mandat\", \"Banque d'épargne\",\n",
       "       'Poste', 'Institution financière', 'Établissement de crédit',\n",
       "       'Magasin de téléphonie mobile', 'Conseiller financier',\n",
       "       'Bibliothèque municipale', 'Bureau de change',\n",
       "       'Distributeur de billets', nan, 'Attraction touristique',\n",
       "       'Pizzeria', 'Dépôt-vente'], dtype=object)"
      ]
     },
     "execution_count": 93,
     "metadata": {},
     "output_type": "execute_result"
    }
   ],
   "source": [
    "df['bank_category'].unique()"
   ]
  },
  {
   "attachments": {},
   "cell_type": "markdown",
   "id": "4f0546cf",
   "metadata": {},
   "source": [
    "We see that here, we got some categories that are not really banks, we need to get rid of them."
   ]
  },
  {
   "cell_type": "code",
   "execution_count": 94,
   "id": "ef7fddcd",
   "metadata": {},
   "outputs": [
    {
     "data": {
      "text/plain": [
       "array(['Banque', \"Banque d'épargne\", 'Institution financière',\n",
       "       'Établissement de crédit', nan], dtype=object)"
      ]
     },
     "execution_count": 94,
     "metadata": {},
     "output_type": "execute_result"
    }
   ],
   "source": [
    "df = df.loc[df['bank_category'].isin(['Banque', \"Banque d'épargne\", 'Institution financière', 'Établissement de crédit', np.nan])]\n",
    "df['bank_category'].unique()"
   ]
  },
  {
   "cell_type": "code",
   "execution_count": 95,
   "id": "fbe080df",
   "metadata": {},
   "outputs": [
    {
     "data": {
      "text/plain": [
       "array(['Bank Of Africa, Agence Al Massira, Maarif.', 'Citibank',\n",
       "       'Al Akhdar Bank agence casa Racine',\n",
       "       'BANK OF AFRICA, Agence Abdelmoumen, Casablanca.',\n",
       "       'Attijariwafa Bank', 'Bank Assafa - Agence PALMIER',\n",
       "       'BANK OF AFRICA', 'BANK OF AFRICA Golf', 'Bank chaabi',\n",
       "       'Bank of Africa', 'AttijariWafa Bank Blaise Pascal',\n",
       "       'Bank of Africa la Gironde', 'ATTIJARIWAFA BANK Sidi Abderrahmane',\n",
       "       'Attijariwafa Bank, Agence Rue De Rome, Mers Sultan.',\n",
       "       'Banque Attijariwafa Bank', 'Al Barid bank',\n",
       "       'BANK OF AFRICA RABAT HAY RIYAD',\n",
       "       'Attijariwafa Bank Rabat Abd. AlKhattabi', 'BMCE Bank',\n",
       "       'Bank Al Yousr', 'CFG Bank - Agence Rabat Souissi',\n",
       "       'banque populaire', 'Barid Bank', 'Umnia Bank Rabat Al Manal',\n",
       "       'AL AKHDAR BANK HAY RIAD', 'Attijariwafa bank', 'Banque Al yousr',\n",
       "       'BMCE BANK Agence Rabat Centrale', 'Tijariwafa Bank',\n",
       "       'Umnia Bank (ag. Rabat hay Ryad)', 'BANK OF AFRICA RABAT CENTRALE',\n",
       "       'Banque Populaire بنك الشعبي', 'Banque populaire',\n",
       "       'Crédit du Maroc', 'Société Générale', 'Banque Populaire', 'BMCE',\n",
       "       'al barid bank', 'AL BARID BANK',\n",
       "       'Société Générale Fes Route Ain Chkef', 'Umnia Bank Fes',\n",
       "       'CIH BANK', 'Banque CIH',\n",
       "       'Espace Libre Service - Société Générale Maroc',\n",
       "       'CFG Bank - Agence Fes', 'AttijariWafa:1 Bank',\n",
       "       'Umnia Bank Fes Es-Saada', 'Bank', 'bmce bank', 'BANK BMCE',\n",
       "       'Société Générale Marrakech Medina', 'CIH Bank',\n",
       "       'CIH Bank, Agence Marrakech, Hassan II.',\n",
       "       'Bank Assafa - Agence Marrakech', 'Umnia Bank Marrakech Medina',\n",
       "       'Attijariwafa banque', 'ATTIJARIWAFABANK',\n",
       "       'Agence Banque Populaire - البنك الشعبي',\n",
       "       'Umnia Bank Marrakech Menara', 'Société Générale Tanger Castilla',\n",
       "       'Société générale Tanger Malabata', 'cashplus tanger',\n",
       "       'Attijariwafa Bank.', 'بنك الشعبي bank populaire', 'Dar Al Amane',\n",
       "       'Umnia Bank Tanger', 'Umnia Bank Tanger Dar Tounssi',\n",
       "       'Bank Assafa - Agence Tanger Mly Ismail',\n",
       "       'Attijariwafa Bank - Tanger Gzenaya',\n",
       "       'AL AKHDAR BANK TANGER EL BOUGHAZ', 'Bmci', 'البنك الشعبي',\n",
       "       'Banque Al-Maghrib', 'Al Barid Bank',\n",
       "       'Société Générale Meknes Marjane', 'Banque Credit Agricole',\n",
       "       'attijariwafa bank touarga', 'Société Générale Meknes Medina',\n",
       "       'Cashplus Zioune', 'ATTIJARIWAFA BANK Hassane 2',\n",
       "       'Crédit Agricole', 'Bank Assafa - Agence Meknès',\n",
       "       'AttijariWafa Bank Hamria', 'Société Générale Meknes Principale',\n",
       "       'Bmce Bank Yacoub el Mansour', 'Société Générale Meknes Zitoune',\n",
       "       'Umnia Bank Meknes', 'Société Générale Safi Kennedy',\n",
       "       \"ATTIJARI WAFA BANK Centre D'Affaires\",\n",
       "       'Société Générale Safi Driss 1er', 'القروض الصغرى',\n",
       "       'Banque Populaire ag°2', 'التجاري وفا بنك',\n",
       "       'Agence Attijariwafa Bank', 'SGMB AGENCE SAFI',\n",
       "       'التجاري وفابنك - Attijariwafa Bank', 'Cashplus', 'Safaa Bank',\n",
       "       'Agence Banque Populaire', 'Banque BMCE', 'البريد بنك',\n",
       "       'Allo Multi-services Chaabi Cash', 'BMCE BANK',\n",
       "       'Banque populaire Bab Fes', 'بريد بنك',\n",
       "       'Société Générale Nador Principale', 'Bank al-Maghrib',\n",
       "       'Société Générale Kenitra Principale', 'UMB', 'Umnia Bank Safi',\n",
       "       'Banque Crédit Du Maroc', 'Société Générale Kenitra Mimosas',\n",
       "       'Crédit Agricole du Maroc - Succursale de Kénitra',\n",
       "       'Agence Al Akhdar BANK', 'Umnia Bank Nador',\n",
       "       'Banque Populaire - Succursale de Kénitra',\n",
       "       'التجاري وفا بنك Attijariwafa bank',\n",
       "       'Société Générale Kenitra Imam Ali',\n",
       "       'Société Générale Riad Kenitra', 'Banque Populaire Ibn Battouta',\n",
       "       'HAWS BANK', 'Agence BMCE Banque kenitra Avenue Mly Abdelazziz',\n",
       "       'Bank Assafa - Agence Kénitra', 'Banque Populaire D El Jadida',\n",
       "       'Tentes Méditerranée', 'Umnia Bank', 'Bank Assafa', 'Barid Banque',\n",
       "       'Société Générale Tetouan Sidi Mandri', 'Bank Al Maghreb',\n",
       "       'Al Barid Bank Tetouan Touabel', 'El Bayad Said',\n",
       "       'Umnia Bank Tetouan', 'Al AKHDAR Bank, ag Tétouan',\n",
       "       'البنك الشعبي وكالة زاكورة', 'Barid cash بريد كاش',\n",
       "       'rio de oro voyages', 'Wafasalaf Laayoune', 'Crédit Du Maroc',\n",
       "       'بنك CIH', 'Albaridbank Agence Principale', 'Base navale',\n",
       "       'Société Générale Laayoune', 'Umnia Bank Laayoune',\n",
       "       'Siège AL BARID BANK', 'SOCIETE GENERALE LAAYOUNE AL WAHDA',\n",
       "       'Société Générale Dakhla', 'Société Générale Laayoune Mohamed VI',\n",
       "       'Société Générale SETTAT LALLA AICHA', 'Wafacash',\n",
       "       'Attijariwafa Bank, Agence Settat, Avenue Des FAR.',\n",
       "       'Banque Populaire, Agence SETTAT, Moulay Youssef.',\n",
       "       'Société Générale, Agence Settat.', 'Credit agricole',\n",
       "       'Crédit Agricole Maroc', 'Espace INWI Settat',\n",
       "       'Attijariwafa Bank Agence Settat Atlas',\n",
       "       'Bmci Bnp Paribas, Agence SETTAT.',\n",
       "       'Banque Populaire, Agence FAR, Settat.',\n",
       "       'Attijariwafa Bank, Agence SETTAT, Route El Jadida.',\n",
       "       'Attijariwafa Bank, Agence SETTAT, Place Mohamed V',\n",
       "       'Umnia Bank Settat', 'Bank Of Africa, Agence Settat Principale.',\n",
       "       'LANA CASH ET CENTRE COPIE ET PUBLICTE', 'Banque Al Maghreb',\n",
       "       'Centre Monétique Interbancaire', 'AXA Crédit Ouarzazate',\n",
       "       'Credit Agricole', 'wafacash', 'BMCI', 'Poste Maroc',\n",
       "       'société générale', 'بنك الشركة العامة', 'Umnia Bank Ouarzazate',\n",
       "       'الأمانة للقروض الصغرى', 'Cash Plus', 'Bmce Agence',\n",
       "       'cashplus saada guelmim a cote la gare routiére',\n",
       "       'Umnia Bank Guelmim', 'AttijariWafa Banque', 'Canal M Berrechid',\n",
       "       'CIH Banque', 'BMCE Banque', 'Banque Populaire البنك الشعبي',\n",
       "       'Bank of africa', 'Société Générale Berrechid', 'Wafa Bank',\n",
       "       'Bank Al Yousr Berrechid', 'Umnia Berrechid', 'Attawfiq',\n",
       "       'Crédit Agricole du Maroc', 'Banque Populaire AL WIFAQ',\n",
       "       'Société Générale ANDALOUS', 'Société Générale Berkane Andalous',\n",
       "       'Fondation ALKARAMA micro-finance', 'Credit Du Maroc',\n",
       "       'Bank Assafa - Agence Berkane', 'Société Générale Berkane',\n",
       "       'Umnia Bank Berkane', 'Al Akhdar Bank Berkane', 'Agence El Amana',\n",
       "       'BMCI Banque', 'Lana cash ben seffar',\n",
       "       'la banque populaire البنك الشعبي',\n",
       "       'La Banque Populaire البنك الشعبي', 'cashplus benseffar',\n",
       "       'Société Générale Sefrou', 'CREDIT AGRICOLE', 'WafaSalaf',\n",
       "       'Bmci Taounate', 'BMCE BANK OF AFRICA', 'الأمانة للتمويل الأصغر',\n",
       "       'الشركة العامة للأبناك', 'Attijari Wafabank',\n",
       "       'Banque Populaire - Agence Ibn Sina', 'Banque BMCE Agence Essalam',\n",
       "       'Crédit Agricole Bank. Direction Régionale', 'Boujdour',\n",
       "       'Credit Immobilier Et Hotelier (Cih Standard)',\n",
       "       'CIH Bank Agence Khemisset', 'Société Générale Khemisset',\n",
       "       'CIH BANK AGENCE', 'Banque BMCE Agence Khemisset',\n",
       "       'التجاري وفابنك', 'CIH bank', 'Banque Populaire Ibn Batota'],\n",
       "      dtype=object)"
      ]
     },
     "execution_count": 95,
     "metadata": {},
     "output_type": "execute_result"
    }
   ],
   "source": [
    "df['bank_title'].unique()"
   ]
  },
  {
   "attachments": {},
   "cell_type": "markdown",
   "id": "5de800e4",
   "metadata": {},
   "source": [
    "Here, we see that there are many banks with the same name, but written in different ways. We need to fix that. We are going to use the fuzzywuzzy library to help us with that.  \n",
    "Before that ler's remove the classes that do not refer to banks."
   ]
  },
  {
   "cell_type": "code",
   "execution_count": 96,
   "id": "cb9553a1",
   "metadata": {},
   "outputs": [],
   "source": [
    "# import the function from utils/functions.py\n",
    "import sys\n",
    "sys.path.append('../utils')\n",
    "import functions\n",
    "\n",
    "# define a list of bank labels\n",
    "labels = df['bank_title'].unique()\n",
    "\n",
    "# create a dictionnary that maps each bank label to its corresponding bank\n",
    "bank_dict = functions.map_labels_to_banks(labels)"
   ]
  },
  {
   "cell_type": "code",
   "execution_count": 97,
   "id": "edfb8772",
   "metadata": {},
   "outputs": [],
   "source": [
    "# create a new column that contains the bank name\n",
    "df['bank_title'] = df['bank_title'].apply(lambda x: bank_dict[x])\n",
    "\n",
    "# drop the rows that contain unknown banks\n",
    "df = df.loc[df['bank_title'] != 'unknown']"
   ]
  },
  {
   "attachments": {},
   "cell_type": "markdown",
   "id": "745fea9c",
   "metadata": {},
   "source": [
    "Next, we look at the other categories related to the bank."
   ]
  },
  {
   "cell_type": "code",
   "execution_count": 98,
   "id": "689504a1",
   "metadata": {},
   "outputs": [
    {
     "data": {
      "text/plain": [
       "array([nan, '+212 5224-89600', '+212 5229-99900', '+212 5222-95955',\n",
       "       '+212 5290-25980', '+212 5229-53570', '+212 5226-39550',\n",
       "       '+212 5223-04466', '+212 5222-82285', '+212 5377-13575',\n",
       "       '+212 5224-98004', '+212 5377-14519', '+212 5377-02296',\n",
       "       '+212 5375-69691', '+212 5380-12910', '+212 5375-76995',\n",
       "       '+212 5227-76800', '+212 5226-46264', '+212 530-855820',\n",
       "       '+212 5377-78151', '+212 5372-16152', '+212 5375-75970',\n",
       "       '+212 5372-31291', '+212 5359-30078', '+212 611-618255',\n",
       "       '+212 5359-62480', '+212 5357-24090', '+212 5357-37840',\n",
       "       '+212 5359-40183', '+212 5356-44122', '+212 5224-24243',\n",
       "       '+212 80-2000047', '+212 5224-24242', '+212 5244-30320',\n",
       "       '+212 5244-37265', '+212 52980-0755', '+212 5243-14693',\n",
       "       '+212 5244-18845', '+212 5244-37326', '+212 5244-46025',\n",
       "       '+212 5243-39180', '+212 5393-28340', '+212 5399-37424',\n",
       "       '+212 5393-49120', '+212 5399-57649', '+212 5393-28280',\n",
       "       '+212 5399-32282', '+212 5380-12916', '+212 5399-48171',\n",
       "       '+212 5399-42892', '+212 5393-59150', '+212 5393-94164',\n",
       "       '+212 663-475839', '+212 5399-82606', '+212 5399-82901',\n",
       "       '+212 5354-68650', '+212 5355-48847', '+212 5354-60400',\n",
       "       '+212 5355-22880', '+212 5354-01287', '+212 5354-04770',\n",
       "       '+212 5354-55660', '+212 5355-21658', '+212 5246-19180',\n",
       "       '+212 5290-20830', '+212 5244-64719', '+212 5246-19190',\n",
       "       '+212 5366-00881', '+212 5224-79779', '+212 5246-22856',\n",
       "       '+212 5363-29220', '+212 5363-35356', '+212 5244-65040',\n",
       "       '+212 5363-29000', '+212 5373-78046', '+212 5373-29661',\n",
       "       '+212 532-110260', '+212 5373-76251', '+212 5366-04446',\n",
       "       '+212 5363-29370', '+212 5373-77581', '+212 5380-01354',\n",
       "       '+212 5373-69080', '+212 5373-29080', '+212 5373-92389',\n",
       "       '+212 677-333155', '+212 5373-99210', '+212 5380-08878',\n",
       "       '+212 5233-54633', '+212 5233-54120', '+212 5233-96370',\n",
       "       '+212 5356-67071', '+212 5290-53516', '+212 5399-62418',\n",
       "       '+212 5399-61284', '+212 5233-79245', '+212 5397-09035',\n",
       "       '+212 5397-16160', '+212 5399-98004', '+212 5399-68891',\n",
       "       '+212 5397-22025', '+212 665-917768', '+212 615-769152',\n",
       "       '+212 5288-97439', '+212 702-017387', '+212 5288-97437',\n",
       "       '+212 5289-99000', '+212 5289-31383', '+212 5289-86210',\n",
       "       '+212 5289-95206', '+212 5289-99504', '+212 5224-34242',\n",
       "       '+212 5289-32009', '+212 5289-33209', '+212 5289-99230',\n",
       "       '+212 5289-32300', '+212 5237-29380', '+212 5237-21815',\n",
       "       '+212 5234-01604', '+212 5237-29342', '+212 5234-01328',\n",
       "       '+212 5237-21049', '+212 5237-21187', '+212 640-725224',\n",
       "       '+212 5248-90746', '+212 5248-82698', '+212 5248-83544',\n",
       "       '+212 5248-82874', '+212 5248-82245', '+212 5287-79040',\n",
       "       '+212 5288-72050', '+212 5288-73223', '+212 5287-79070',\n",
       "       '+212 5287-79082', '+212 5223-37013', '+212 5225-33647',\n",
       "       '+212 5225-35712', '+212 5290-23344', '+212 5223-37043',\n",
       "       '+212 5225-35720', '+212 5223-37002', '+212 5225-35510',\n",
       "       '+212 5225-35200', '+212 5290-08390', '+212 5287-84000',\n",
       "       '+212 5362-31950', '+212 5288-75375', '+212 5366-16353',\n",
       "       '+212 5362-39010', '+212 5366-12652', '+212 5366-10510',\n",
       "       '+212 5362-39106', '+212 5362-39000', '+212 5356-83122',\n",
       "       '+212 5359-69970', '+212 5356-62281', '+212 5356-88150',\n",
       "       '+212 5356-60817', '+212 610-232558', '+212 5356-89008',\n",
       "       '+212 5356-88042', '+212 5375-59557', '+212 5375-56005',\n",
       "       '+212 5375-55735', '+212 5375-59523', '+212 5375-57088',\n",
       "       '+212 5244-76334', '+212 5244-79250', '+212 5375-55019',\n",
       "       '+212 5375-55023', '+212 5375-59900', '+212 5375-51700',\n",
       "       '+212 5375-50677', '+212 697-039077', '+212 5288-96135',\n",
       "       '+212 5287-79020'], dtype=object)"
      ]
     },
     "execution_count": 98,
     "metadata": {},
     "output_type": "execute_result"
    }
   ],
   "source": [
    "df['bank_phone'].unique()"
   ]
  },
  {
   "cell_type": "code",
   "execution_count": 99,
   "id": "07309759",
   "metadata": {},
   "outputs": [
    {
     "data": {
      "text/plain": [
       "array([20, 19, 18, 17, 16, 14, 15, 13, 12, 11, 10,  9,  8,  7,  6,  5,  3,\n",
       "        4,  2,  1])"
      ]
     },
     "execution_count": 99,
     "metadata": {},
     "output_type": "execute_result"
    }
   ],
   "source": [
    "df['bank_rank'].unique()"
   ]
  },
  {
   "cell_type": "code",
   "execution_count": 100,
   "id": "295587d3",
   "metadata": {},
   "outputs": [
    {
     "data": {
      "text/plain": [
       "array([ 8, 14,  2, 10,  1,  3,  0,  7,  6,  5,  4, 18, 12,  9, 13, 28, 22,\n",
       "       11, 15, 27, 34, 20, 32, 21, 24, 33, 16, 78, 31, 51, 60, 23, 26, 17])"
      ]
     },
     "execution_count": 100,
     "metadata": {},
     "output_type": "execute_result"
    }
   ],
   "source": [
    "df['reviews_count'].unique()"
   ]
  },
  {
   "attachments": {},
   "cell_type": "markdown",
   "id": "60370e47",
   "metadata": {},
   "source": [
    "Now, all the fields that are related to the bank are tidy.  \n",
    "We need to do the same for categories related to reviews and reviewers.  \n",
    "For reviews text, we are only interested in the text itself, we need a column text which holds the text of the review if it's in French, otherwise, we use the translated text, which is in French."
   ]
  },
  {
   "cell_type": "code",
   "execution_count": 101,
   "id": "46953773",
   "metadata": {},
   "outputs": [],
   "source": [
    "# create a text column which takes text_translated if it exists, otherwise it takes text\n",
    "df['review_text'] = df['review_text_translated'].fillna(df['review_text'])"
   ]
  },
  {
   "cell_type": "code",
   "execution_count": 102,
   "id": "ad8b7d69",
   "metadata": {},
   "outputs": [],
   "source": [
    "# changing reviewer names to unknown if they are nan\n",
    "df['reviewer_name'] = df['reviewer_name'].fillna('unknown')"
   ]
  },
  {
   "attachments": {},
   "cell_type": "markdown",
   "id": "104bb5c5",
   "metadata": {},
   "source": [
    "Now we're all set, we can drop the other columns that we don't need."
   ]
  },
  {
   "cell_type": "code",
   "execution_count": 103,
   "id": "8def1641",
   "metadata": {},
   "outputs": [],
   "source": [
    "df.drop(['review_text_translated', 'review_id', 'reviewer_id'], axis=1, inplace=True)"
   ]
  },
  {
   "cell_type": "code",
   "execution_count": 104,
   "id": "f5e8a443",
   "metadata": {},
   "outputs": [],
   "source": [
    "df['review_id'] = df.index"
   ]
  },
  {
   "cell_type": "code",
   "execution_count": 105,
   "id": "6ff2d98e",
   "metadata": {},
   "outputs": [
    {
     "data": {
      "text/plain": [
       "bank_adress              object\n",
       "bank_category            object\n",
       "bank_id                  uint64\n",
       "bank_city                object\n",
       "latitude                float64\n",
       "longitude               float64\n",
       "bank_phone               object\n",
       "bank_rank                 int64\n",
       "reviews_count             int64\n",
       "bank_title               object\n",
       "bank_score              float64\n",
       "review_date              object\n",
       "review_stars            float64\n",
       "review_text              object\n",
       "reviewer_num_reviews    float64\n",
       "reviewer_name            object\n",
       "review_id                 int64\n",
       "dtype: object"
      ]
     },
     "execution_count": 105,
     "metadata": {},
     "output_type": "execute_result"
    }
   ],
   "source": [
    "df.dtypes"
   ]
  },
  {
   "attachments": {},
   "cell_type": "markdown",
   "id": "74295830",
   "metadata": {},
   "source": [
    "We need to save our data in a csv file."
   ]
  },
  {
   "cell_type": "code",
   "execution_count": 106,
   "id": "81410c82",
   "metadata": {},
   "outputs": [],
   "source": [
    "# reorder the columns\n",
    "df = df[['bank_id', 'bank_title', 'bank_category', 'bank_adress', 'bank_city', 'bank_phone', 'bank_rank', 'reviews_count', 'bank_score', 'latitude', 'longitude', 'review_id', 'review_date', 'review_stars', 'review_text', 'reviewer_name', 'reviewer_num_reviews']]"
   ]
  },
  {
   "attachments": {},
   "cell_type": "markdown",
   "id": "8cb5daf7",
   "metadata": {},
   "source": [
    "We need to do one more thing in order to make our data warehouse building easier, it's to separate this dataset into 3 datasets, one for banks, one for reviews and one for reviewers."
   ]
  },
  {
   "cell_type": "code",
   "execution_count": 107,
   "id": "08a03fe4",
   "metadata": {},
   "outputs": [],
   "source": [
    "banks_df = df[['bank_id', 'bank_title', 'bank_category', 'bank_adress', 'bank_city', 'bank_phone', 'bank_rank', 'reviews_count', 'bank_score', 'latitude', 'longitude']]\n",
    "reviews_df = df[['review_id', 'bank_id', 'review_date', 'review_stars', 'review_text', 'reviewer_name', 'reviewer_num_reviews']]"
   ]
  },
  {
   "cell_type": "code",
   "execution_count": 108,
   "id": "86520c65",
   "metadata": {},
   "outputs": [],
   "source": [
    "banks_df = banks_df.drop_duplicates()"
   ]
  },
  {
   "cell_type": "code",
   "execution_count": 109,
   "id": "6dde2dca",
   "metadata": {},
   "outputs": [],
   "source": [
    "banks_df.to_excel(\"../data/processed/banks.xlsx\", index=False)"
   ]
  },
  {
   "attachments": {},
   "cell_type": "markdown",
   "id": "7d7749f7",
   "metadata": {},
   "source": [
    "Now we have a clean dataset, with banks and reviews on single dataframes.  \n",
    "The next step is to perform a sentiment analysis on the reviews, and then we can build our data warehouse.  \n",
    "For this we are going to create a new column called `sentiment` which will hold the sentiment of the review."
   ]
  }
 ],
 "metadata": {
  "kernelspec": {
   "display_name": "Python 3 (ipykernel)",
   "language": "python",
   "name": "python3"
  },
  "language_info": {
   "codemirror_mode": {
    "name": "ipython",
    "version": 3
   },
   "file_extension": ".py",
   "mimetype": "text/x-python",
   "name": "python",
   "nbconvert_exporter": "python",
   "pygments_lexer": "ipython3",
   "version": "3.10.6"
  }
 },
 "nbformat": 4,
 "nbformat_minor": 5
}
