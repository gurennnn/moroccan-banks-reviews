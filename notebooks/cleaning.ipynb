{
 "cells": [
  {
   "attachments": {},
   "cell_type": "markdown",
   "id": "186c7d33",
   "metadata": {},
   "source": [
    "In this notebook, we are going to look at our raw dataset `banks.xlsx` for cleaning purposes. We will be using the `pandas` library to help us with this task."
   ]
  },
  {
   "cell_type": "code",
   "execution_count": 110,
   "id": "ed87c92c",
   "metadata": {},
   "outputs": [],
   "source": [
    "# import libraries\n",
    "import numpy as np\n",
    "import pandas as pd "
   ]
  },
  {
   "cell_type": "code",
   "execution_count": 111,
   "id": "4546ab82",
   "metadata": {},
   "outputs": [],
   "source": [
    "# load the data\n",
    "df1 = pd.read_excel(\"../data/raw/banks1.xlsx\")\n",
    "df2 = pd.read_excel(\"../data/raw/banks2.xlsx\")"
   ]
  },
  {
   "cell_type": "code",
   "execution_count": 112,
   "id": "74b97dde",
   "metadata": {
    "scrolled": true
   },
   "outputs": [
    {
     "data": {
      "text/html": [
       "<div>\n",
       "<style scoped>\n",
       "    .dataframe tbody tr th:only-of-type {\n",
       "        vertical-align: middle;\n",
       "    }\n",
       "\n",
       "    .dataframe tbody tr th {\n",
       "        vertical-align: top;\n",
       "    }\n",
       "\n",
       "    .dataframe thead th {\n",
       "        text-align: right;\n",
       "    }\n",
       "</style>\n",
       "<table border=\"1\" class=\"dataframe\">\n",
       "  <thead>\n",
       "    <tr style=\"text-align: right;\">\n",
       "      <th></th>\n",
       "      <th>address</th>\n",
       "      <th>categoryName</th>\n",
       "      <th>cid</th>\n",
       "      <th>city</th>\n",
       "      <th>location/lat</th>\n",
       "      <th>location/lng</th>\n",
       "      <th>phone</th>\n",
       "      <th>rank</th>\n",
       "      <th>reviewsCount</th>\n",
       "      <th>title</th>\n",
       "      <th>totalScore</th>\n",
       "      <th>reviewId</th>\n",
       "      <th>publishedAtDate</th>\n",
       "      <th>stars</th>\n",
       "      <th>text</th>\n",
       "      <th>textTranslated</th>\n",
       "      <th>reviewerId</th>\n",
       "      <th>reviewerNumberOfReviews</th>\n",
       "      <th>name</th>\n",
       "    </tr>\n",
       "  </thead>\n",
       "  <tbody>\n",
       "    <tr>\n",
       "      <th>0</th>\n",
       "      <td>Rue Abou Abdellah Nafii, Casablanca 20250, Maroc</td>\n",
       "      <td>Banque</td>\n",
       "      <td>608978182545380096</td>\n",
       "      <td>Casablanca</td>\n",
       "      <td>33.585603</td>\n",
       "      <td>-7.633682</td>\n",
       "      <td>NaN</td>\n",
       "      <td>20</td>\n",
       "      <td>8</td>\n",
       "      <td>Bank Of Africa, Agence Al Massira, Maarif.</td>\n",
       "      <td>3.1</td>\n",
       "      <td>NaN</td>\n",
       "      <td>2023-02-27T15:53:13.594Z</td>\n",
       "      <td>5.0</td>\n",
       "      <td>Une très belle équipe .\\nJe recommande spécial...</td>\n",
       "      <td>NaN</td>\n",
       "      <td>NaN</td>\n",
       "      <td>12.0</td>\n",
       "      <td>NaN</td>\n",
       "    </tr>\n",
       "    <tr>\n",
       "      <th>1</th>\n",
       "      <td>Rue Abou Abdellah Nafii, Casablanca 20250, Maroc</td>\n",
       "      <td>Banque</td>\n",
       "      <td>608978182545380096</td>\n",
       "      <td>Casablanca</td>\n",
       "      <td>33.585603</td>\n",
       "      <td>-7.633682</td>\n",
       "      <td>NaN</td>\n",
       "      <td>20</td>\n",
       "      <td>8</td>\n",
       "      <td>Bank Of Africa, Agence Al Massira, Maarif.</td>\n",
       "      <td>3.1</td>\n",
       "      <td>NaN</td>\n",
       "      <td>2022-09-28T09:38:14.263Z</td>\n",
       "      <td>5.0</td>\n",
       "      <td>NaN</td>\n",
       "      <td>NaN</td>\n",
       "      <td>NaN</td>\n",
       "      <td>0.0</td>\n",
       "      <td>NaN</td>\n",
       "    </tr>\n",
       "    <tr>\n",
       "      <th>2</th>\n",
       "      <td>Rue Abou Abdellah Nafii, Casablanca 20250, Maroc</td>\n",
       "      <td>Banque</td>\n",
       "      <td>608978182545380096</td>\n",
       "      <td>Casablanca</td>\n",
       "      <td>33.585603</td>\n",
       "      <td>-7.633682</td>\n",
       "      <td>NaN</td>\n",
       "      <td>20</td>\n",
       "      <td>8</td>\n",
       "      <td>Bank Of Africa, Agence Al Massira, Maarif.</td>\n",
       "      <td>3.1</td>\n",
       "      <td>NaN</td>\n",
       "      <td>2022-05-27T18:42:53.897Z</td>\n",
       "      <td>2.0</td>\n",
       "      <td>NaN</td>\n",
       "      <td>NaN</td>\n",
       "      <td>NaN</td>\n",
       "      <td>49.0</td>\n",
       "      <td>NaN</td>\n",
       "    </tr>\n",
       "    <tr>\n",
       "      <th>3</th>\n",
       "      <td>Rue Abou Abdellah Nafii, Casablanca 20250, Maroc</td>\n",
       "      <td>Banque</td>\n",
       "      <td>608978182545380096</td>\n",
       "      <td>Casablanca</td>\n",
       "      <td>33.585603</td>\n",
       "      <td>-7.633682</td>\n",
       "      <td>NaN</td>\n",
       "      <td>20</td>\n",
       "      <td>8</td>\n",
       "      <td>Bank Of Africa, Agence Al Massira, Maarif.</td>\n",
       "      <td>3.1</td>\n",
       "      <td>NaN</td>\n",
       "      <td>2022-04-08T13:10:33.584Z</td>\n",
       "      <td>1.0</td>\n",
       "      <td>NaN</td>\n",
       "      <td>NaN</td>\n",
       "      <td>NaN</td>\n",
       "      <td>2.0</td>\n",
       "      <td>NaN</td>\n",
       "    </tr>\n",
       "    <tr>\n",
       "      <th>4</th>\n",
       "      <td>Rue Abou Abdellah Nafii, Casablanca 20250, Maroc</td>\n",
       "      <td>Banque</td>\n",
       "      <td>608978182545380096</td>\n",
       "      <td>Casablanca</td>\n",
       "      <td>33.585603</td>\n",
       "      <td>-7.633682</td>\n",
       "      <td>NaN</td>\n",
       "      <td>20</td>\n",
       "      <td>8</td>\n",
       "      <td>Bank Of Africa, Agence Al Massira, Maarif.</td>\n",
       "      <td>3.1</td>\n",
       "      <td>NaN</td>\n",
       "      <td>2022-01-08T15:36:51.089Z</td>\n",
       "      <td>1.0</td>\n",
       "      <td>Mauvais service client</td>\n",
       "      <td>NaN</td>\n",
       "      <td>NaN</td>\n",
       "      <td>2.0</td>\n",
       "      <td>NaN</td>\n",
       "    </tr>\n",
       "  </tbody>\n",
       "</table>\n",
       "</div>"
      ],
      "text/plain": [
       "                                            address categoryName   \n",
       "0  Rue Abou Abdellah Nafii, Casablanca 20250, Maroc       Banque  \\\n",
       "1  Rue Abou Abdellah Nafii, Casablanca 20250, Maroc       Banque   \n",
       "2  Rue Abou Abdellah Nafii, Casablanca 20250, Maroc       Banque   \n",
       "3  Rue Abou Abdellah Nafii, Casablanca 20250, Maroc       Banque   \n",
       "4  Rue Abou Abdellah Nafii, Casablanca 20250, Maroc       Banque   \n",
       "\n",
       "                  cid        city  location/lat  location/lng phone  rank   \n",
       "0  608978182545380096  Casablanca     33.585603     -7.633682   NaN    20  \\\n",
       "1  608978182545380096  Casablanca     33.585603     -7.633682   NaN    20   \n",
       "2  608978182545380096  Casablanca     33.585603     -7.633682   NaN    20   \n",
       "3  608978182545380096  Casablanca     33.585603     -7.633682   NaN    20   \n",
       "4  608978182545380096  Casablanca     33.585603     -7.633682   NaN    20   \n",
       "\n",
       "   reviewsCount                                       title  totalScore   \n",
       "0             8  Bank Of Africa, Agence Al Massira, Maarif.         3.1  \\\n",
       "1             8  Bank Of Africa, Agence Al Massira, Maarif.         3.1   \n",
       "2             8  Bank Of Africa, Agence Al Massira, Maarif.         3.1   \n",
       "3             8  Bank Of Africa, Agence Al Massira, Maarif.         3.1   \n",
       "4             8  Bank Of Africa, Agence Al Massira, Maarif.         3.1   \n",
       "\n",
       "  reviewId           publishedAtDate  stars   \n",
       "0      NaN  2023-02-27T15:53:13.594Z    5.0  \\\n",
       "1      NaN  2022-09-28T09:38:14.263Z    5.0   \n",
       "2      NaN  2022-05-27T18:42:53.897Z    2.0   \n",
       "3      NaN  2022-04-08T13:10:33.584Z    1.0   \n",
       "4      NaN  2022-01-08T15:36:51.089Z    1.0   \n",
       "\n",
       "                                                text textTranslated   \n",
       "0  Une très belle équipe .\\nJe recommande spécial...            NaN  \\\n",
       "1                                                NaN            NaN   \n",
       "2                                                NaN            NaN   \n",
       "3                                                NaN            NaN   \n",
       "4                             Mauvais service client            NaN   \n",
       "\n",
       "  reviewerId  reviewerNumberOfReviews name  \n",
       "0        NaN                     12.0  NaN  \n",
       "1        NaN                      0.0  NaN  \n",
       "2        NaN                     49.0  NaN  \n",
       "3        NaN                      2.0  NaN  \n",
       "4        NaN                      2.0  NaN  "
      ]
     },
     "execution_count": 112,
     "metadata": {},
     "output_type": "execute_result"
    }
   ],
   "source": [
    "df1.head()"
   ]
  },
  {
   "cell_type": "code",
   "execution_count": 113,
   "id": "d3c75db6",
   "metadata": {},
   "outputs": [
    {
     "data": {
      "text/plain": [
       "Index(['address', 'categoryName', 'cid', 'city', 'location/lat',\n",
       "       'location/lng', 'phone', 'rank', 'reviewsCount', 'title', 'totalScore',\n",
       "       'reviewId', 'publishedAtDate', 'stars', 'text', 'textTranslated',\n",
       "       'reviewerId', 'reviewerNumberOfReviews', 'name'],\n",
       "      dtype='object')"
      ]
     },
     "execution_count": 113,
     "metadata": {},
     "output_type": "execute_result"
    }
   ],
   "source": [
    "df1.columns"
   ]
  },
  {
   "cell_type": "code",
   "execution_count": 114,
   "id": "a7ec4428",
   "metadata": {},
   "outputs": [
    {
     "data": {
      "text/plain": [
       "Index(['name', 'address', 'categoryName', 'cid', 'city', 'location/lat',\n",
       "       'location/lng', 'phone', 'rank', 'reviewsCount', 'title', 'totalScore',\n",
       "       'reviewId', 'publishedAtDate', 'stars', 'text', 'textTranslated',\n",
       "       'reviewerId', 'reviewerNumberOfReviews'],\n",
       "      dtype='object')"
      ]
     },
     "execution_count": 114,
     "metadata": {},
     "output_type": "execute_result"
    }
   ],
   "source": [
    "df2.columns"
   ]
  },
  {
   "cell_type": "code",
   "execution_count": 115,
   "id": "1cd00ebd",
   "metadata": {},
   "outputs": [
    {
     "data": {
      "text/plain": [
       "Index(['address', 'categoryName', 'cid', 'city', 'location/lat',\n",
       "       'location/lng', 'phone', 'rank', 'reviewsCount', 'title', 'totalScore',\n",
       "       'reviewId', 'publishedAtDate', 'stars', 'text', 'textTranslated',\n",
       "       'reviewerId', 'reviewerNumberOfReviews', 'name'],\n",
       "      dtype='object')"
      ]
     },
     "execution_count": 115,
     "metadata": {},
     "output_type": "execute_result"
    }
   ],
   "source": [
    "df2 = df2[list(df1.columns)]\n",
    "df2.columns"
   ]
  },
  {
   "attachments": {},
   "cell_type": "markdown",
   "id": "b0e1755b",
   "metadata": {},
   "source": [
    "We need to change some columns names, look at the data types ..."
   ]
  },
  {
   "cell_type": "code",
   "execution_count": 116,
   "id": "6c239054",
   "metadata": {},
   "outputs": [
    {
     "data": {
      "text/plain": [
       "Index(['bank_adress', 'bank_category', 'bank_id', 'bank_city', 'latitude',\n",
       "       'longitude', 'bank_phone', 'bank_rank', 'reviews_count', 'bank_title',\n",
       "       'bank_score', 'review_id', 'review_date', 'review_stars', 'review_text',\n",
       "       'review_text_translated', 'reviewer_id', 'reviewer_num_reviews',\n",
       "       'reviewer_name'],\n",
       "      dtype='object')"
      ]
     },
     "execution_count": 116,
     "metadata": {},
     "output_type": "execute_result"
    }
   ],
   "source": [
    "df1.columns = ['bank_adress', 'bank_category', 'bank_id', 'bank_city', 'latitude', 'longitude', 'bank_phone', 'bank_rank', 'reviews_count', 'bank_title', 'bank_score', 'review_id', 'review_date', 'review_stars', 'review_text', 'review_text_translated', 'reviewer_id', 'reviewer_num_reviews', 'reviewer_name']\n",
    "df1.columns"
   ]
  },
  {
   "cell_type": "code",
   "execution_count": 117,
   "id": "fd4538f8",
   "metadata": {},
   "outputs": [
    {
     "data": {
      "text/plain": [
       "Index(['bank_adress', 'bank_category', 'bank_id', 'bank_city', 'latitude',\n",
       "       'longitude', 'bank_phone', 'bank_rank', 'reviews_count', 'bank_title',\n",
       "       'bank_score', 'review_id', 'review_date', 'review_stars', 'review_text',\n",
       "       'review_text_translated', 'reviewer_id', 'reviewer_num_reviews',\n",
       "       'reviewer_name'],\n",
       "      dtype='object')"
      ]
     },
     "execution_count": 117,
     "metadata": {},
     "output_type": "execute_result"
    }
   ],
   "source": [
    "df2.columns = ['bank_adress', 'bank_category', 'bank_id', 'bank_city', 'latitude', 'longitude', 'bank_phone', 'bank_rank', 'reviews_count', 'bank_title', 'bank_score', 'review_id', 'review_date', 'review_stars', 'review_text', 'review_text_translated', 'reviewer_id', 'reviewer_num_reviews', 'reviewer_name']\n",
    "df2.columns"
   ]
  },
  {
   "attachments": {},
   "cell_type": "markdown",
   "id": "6320e063",
   "metadata": {},
   "source": [
    "Now that our two datasets have the same columns, we can combine them into one dataset."
   ]
  },
  {
   "cell_type": "code",
   "execution_count": 118,
   "id": "54321ae5",
   "metadata": {},
   "outputs": [
    {
     "data": {
      "text/html": [
       "<div>\n",
       "<style scoped>\n",
       "    .dataframe tbody tr th:only-of-type {\n",
       "        vertical-align: middle;\n",
       "    }\n",
       "\n",
       "    .dataframe tbody tr th {\n",
       "        vertical-align: top;\n",
       "    }\n",
       "\n",
       "    .dataframe thead th {\n",
       "        text-align: right;\n",
       "    }\n",
       "</style>\n",
       "<table border=\"1\" class=\"dataframe\">\n",
       "  <thead>\n",
       "    <tr style=\"text-align: right;\">\n",
       "      <th></th>\n",
       "      <th>bank_adress</th>\n",
       "      <th>bank_category</th>\n",
       "      <th>bank_id</th>\n",
       "      <th>bank_city</th>\n",
       "      <th>latitude</th>\n",
       "      <th>longitude</th>\n",
       "      <th>bank_phone</th>\n",
       "      <th>bank_rank</th>\n",
       "      <th>reviews_count</th>\n",
       "      <th>bank_title</th>\n",
       "      <th>bank_score</th>\n",
       "      <th>review_id</th>\n",
       "      <th>review_date</th>\n",
       "      <th>review_stars</th>\n",
       "      <th>review_text</th>\n",
       "      <th>review_text_translated</th>\n",
       "      <th>reviewer_id</th>\n",
       "      <th>reviewer_num_reviews</th>\n",
       "      <th>reviewer_name</th>\n",
       "    </tr>\n",
       "  </thead>\n",
       "  <tbody>\n",
       "    <tr>\n",
       "      <th>0</th>\n",
       "      <td>Rue Abou Abdellah Nafii, Casablanca 20250, Maroc</td>\n",
       "      <td>Banque</td>\n",
       "      <td>608978182545380096</td>\n",
       "      <td>Casablanca</td>\n",
       "      <td>33.585603</td>\n",
       "      <td>-7.633682</td>\n",
       "      <td>NaN</td>\n",
       "      <td>20</td>\n",
       "      <td>8</td>\n",
       "      <td>Bank Of Africa, Agence Al Massira, Maarif.</td>\n",
       "      <td>3.1</td>\n",
       "      <td>NaN</td>\n",
       "      <td>2023-02-27T15:53:13.594Z</td>\n",
       "      <td>5.0</td>\n",
       "      <td>Une très belle équipe .\\nJe recommande spécial...</td>\n",
       "      <td>NaN</td>\n",
       "      <td>NaN</td>\n",
       "      <td>12.0</td>\n",
       "      <td>NaN</td>\n",
       "    </tr>\n",
       "    <tr>\n",
       "      <th>1</th>\n",
       "      <td>Rue Abou Abdellah Nafii, Casablanca 20250, Maroc</td>\n",
       "      <td>Banque</td>\n",
       "      <td>608978182545380096</td>\n",
       "      <td>Casablanca</td>\n",
       "      <td>33.585603</td>\n",
       "      <td>-7.633682</td>\n",
       "      <td>NaN</td>\n",
       "      <td>20</td>\n",
       "      <td>8</td>\n",
       "      <td>Bank Of Africa, Agence Al Massira, Maarif.</td>\n",
       "      <td>3.1</td>\n",
       "      <td>NaN</td>\n",
       "      <td>2022-09-28T09:38:14.263Z</td>\n",
       "      <td>5.0</td>\n",
       "      <td>NaN</td>\n",
       "      <td>NaN</td>\n",
       "      <td>NaN</td>\n",
       "      <td>0.0</td>\n",
       "      <td>NaN</td>\n",
       "    </tr>\n",
       "    <tr>\n",
       "      <th>2</th>\n",
       "      <td>Rue Abou Abdellah Nafii, Casablanca 20250, Maroc</td>\n",
       "      <td>Banque</td>\n",
       "      <td>608978182545380096</td>\n",
       "      <td>Casablanca</td>\n",
       "      <td>33.585603</td>\n",
       "      <td>-7.633682</td>\n",
       "      <td>NaN</td>\n",
       "      <td>20</td>\n",
       "      <td>8</td>\n",
       "      <td>Bank Of Africa, Agence Al Massira, Maarif.</td>\n",
       "      <td>3.1</td>\n",
       "      <td>NaN</td>\n",
       "      <td>2022-05-27T18:42:53.897Z</td>\n",
       "      <td>2.0</td>\n",
       "      <td>NaN</td>\n",
       "      <td>NaN</td>\n",
       "      <td>NaN</td>\n",
       "      <td>49.0</td>\n",
       "      <td>NaN</td>\n",
       "    </tr>\n",
       "    <tr>\n",
       "      <th>3</th>\n",
       "      <td>Rue Abou Abdellah Nafii, Casablanca 20250, Maroc</td>\n",
       "      <td>Banque</td>\n",
       "      <td>608978182545380096</td>\n",
       "      <td>Casablanca</td>\n",
       "      <td>33.585603</td>\n",
       "      <td>-7.633682</td>\n",
       "      <td>NaN</td>\n",
       "      <td>20</td>\n",
       "      <td>8</td>\n",
       "      <td>Bank Of Africa, Agence Al Massira, Maarif.</td>\n",
       "      <td>3.1</td>\n",
       "      <td>NaN</td>\n",
       "      <td>2022-04-08T13:10:33.584Z</td>\n",
       "      <td>1.0</td>\n",
       "      <td>NaN</td>\n",
       "      <td>NaN</td>\n",
       "      <td>NaN</td>\n",
       "      <td>2.0</td>\n",
       "      <td>NaN</td>\n",
       "    </tr>\n",
       "    <tr>\n",
       "      <th>4</th>\n",
       "      <td>Rue Abou Abdellah Nafii, Casablanca 20250, Maroc</td>\n",
       "      <td>Banque</td>\n",
       "      <td>608978182545380096</td>\n",
       "      <td>Casablanca</td>\n",
       "      <td>33.585603</td>\n",
       "      <td>-7.633682</td>\n",
       "      <td>NaN</td>\n",
       "      <td>20</td>\n",
       "      <td>8</td>\n",
       "      <td>Bank Of Africa, Agence Al Massira, Maarif.</td>\n",
       "      <td>3.1</td>\n",
       "      <td>NaN</td>\n",
       "      <td>2022-01-08T15:36:51.089Z</td>\n",
       "      <td>1.0</td>\n",
       "      <td>Mauvais service client</td>\n",
       "      <td>NaN</td>\n",
       "      <td>NaN</td>\n",
       "      <td>2.0</td>\n",
       "      <td>NaN</td>\n",
       "    </tr>\n",
       "  </tbody>\n",
       "</table>\n",
       "</div>"
      ],
      "text/plain": [
       "                                        bank_adress bank_category   \n",
       "0  Rue Abou Abdellah Nafii, Casablanca 20250, Maroc        Banque  \\\n",
       "1  Rue Abou Abdellah Nafii, Casablanca 20250, Maroc        Banque   \n",
       "2  Rue Abou Abdellah Nafii, Casablanca 20250, Maroc        Banque   \n",
       "3  Rue Abou Abdellah Nafii, Casablanca 20250, Maroc        Banque   \n",
       "4  Rue Abou Abdellah Nafii, Casablanca 20250, Maroc        Banque   \n",
       "\n",
       "              bank_id   bank_city   latitude  longitude bank_phone  bank_rank   \n",
       "0  608978182545380096  Casablanca  33.585603  -7.633682        NaN         20  \\\n",
       "1  608978182545380096  Casablanca  33.585603  -7.633682        NaN         20   \n",
       "2  608978182545380096  Casablanca  33.585603  -7.633682        NaN         20   \n",
       "3  608978182545380096  Casablanca  33.585603  -7.633682        NaN         20   \n",
       "4  608978182545380096  Casablanca  33.585603  -7.633682        NaN         20   \n",
       "\n",
       "   reviews_count                                  bank_title  bank_score   \n",
       "0              8  Bank Of Africa, Agence Al Massira, Maarif.         3.1  \\\n",
       "1              8  Bank Of Africa, Agence Al Massira, Maarif.         3.1   \n",
       "2              8  Bank Of Africa, Agence Al Massira, Maarif.         3.1   \n",
       "3              8  Bank Of Africa, Agence Al Massira, Maarif.         3.1   \n",
       "4              8  Bank Of Africa, Agence Al Massira, Maarif.         3.1   \n",
       "\n",
       "  review_id               review_date  review_stars   \n",
       "0       NaN  2023-02-27T15:53:13.594Z           5.0  \\\n",
       "1       NaN  2022-09-28T09:38:14.263Z           5.0   \n",
       "2       NaN  2022-05-27T18:42:53.897Z           2.0   \n",
       "3       NaN  2022-04-08T13:10:33.584Z           1.0   \n",
       "4       NaN  2022-01-08T15:36:51.089Z           1.0   \n",
       "\n",
       "                                         review_text review_text_translated   \n",
       "0  Une très belle équipe .\\nJe recommande spécial...                    NaN  \\\n",
       "1                                                NaN                    NaN   \n",
       "2                                                NaN                    NaN   \n",
       "3                                                NaN                    NaN   \n",
       "4                             Mauvais service client                    NaN   \n",
       "\n",
       "  reviewer_id  reviewer_num_reviews reviewer_name  \n",
       "0         NaN                  12.0           NaN  \n",
       "1         NaN                   0.0           NaN  \n",
       "2         NaN                  49.0           NaN  \n",
       "3         NaN                   2.0           NaN  \n",
       "4         NaN                   2.0           NaN  "
      ]
     },
     "execution_count": 118,
     "metadata": {},
     "output_type": "execute_result"
    }
   ],
   "source": [
    "df = pd.concat([df1, df2], axis=0)\n",
    "df.head()"
   ]
  },
  {
   "cell_type": "code",
   "execution_count": 121,
   "id": "82ec8b76",
   "metadata": {},
   "outputs": [],
   "source": [
    "# drop duplicates reviews\n",
    "df = df.drop_duplicates()"
   ]
  },
  {
   "cell_type": "code",
   "execution_count": 125,
   "id": "81244a55",
   "metadata": {},
   "outputs": [
    {
     "data": {
      "text/plain": [
       "array(['Casablanca', 'Rabat', 'Rabat Hassan', 'Fès', 'Marrakech',\n",
       "       'Tanger', 'Al Hoceïma', 'Meknès', 'Safi', 'Nador', 'Kénitra',\n",
       "       'El Jadida', 'Tétouan', 'Khouribga', 'Zagora', 'Dakhla',\n",
       "       'Laayoune', 'Laâyoune', 'Settat', 'Guisser', 'Ouarzazate',\n",
       "       'Guelmim', 'Berrchid', 'Sidi Ifni', 'Berkane', 'Sefrou',\n",
       "       'Taounate', 'Khémisset', 'Essaouira', 'Boujdour'], dtype=object)"
      ]
     },
     "execution_count": 125,
     "metadata": {},
     "output_type": "execute_result"
    }
   ],
   "source": [
    "df['bank_city'].unique()"
   ]
  },
  {
   "attachments": {},
   "cell_type": "markdown",
   "id": "c8a83041",
   "metadata": {},
   "source": [
    "We notice that there are some cities that are written in different ways, we need to fix that."
   ]
  },
  {
   "cell_type": "code",
   "execution_count": 126,
   "id": "68d7ffcc",
   "metadata": {},
   "outputs": [
    {
     "data": {
      "text/plain": [
       "array(['Casablanca', 'Rabat', 'Fès', 'Marrakech', 'Tanger', 'Al Hoceïma',\n",
       "       'Meknès', 'Safi', 'Nador', 'Kénitra', 'El Jadida', 'Tétouan',\n",
       "       'Khouribga', 'Zagora', 'Dakhla', 'Laâyoune', 'Settat', 'Guisser',\n",
       "       'Ouarzazate', 'Guelmim', 'Berrchid', 'Sidi Ifni', 'Berkane',\n",
       "       'Sefrou', 'Taounate', 'Khémisset', 'Essaouira', 'Boujdour'],\n",
       "      dtype=object)"
      ]
     },
     "execution_count": 126,
     "metadata": {},
     "output_type": "execute_result"
    }
   ],
   "source": [
    "df.loc[df['bank_city'] == 'Rabat Hassan', 'bank_city'] = 'Rabat'\n",
    "df.loc[df['bank_city'] == 'Laayoune', 'bank_city'] = 'Laâyoune'\n",
    "df['bank_city'].unique()"
   ]
  },
  {
   "attachments": {},
   "cell_type": "markdown",
   "id": "017df572",
   "metadata": {},
   "source": [
    "Cities are now clean."
   ]
  },
  {
   "cell_type": "code",
   "execution_count": 127,
   "id": "20a3882f",
   "metadata": {},
   "outputs": [
    {
     "data": {
      "text/plain": [
       "array(['Banque', \"Banque d'épargne\", 'Institution financière',\n",
       "       'Établissement de crédit', nan], dtype=object)"
      ]
     },
     "execution_count": 127,
     "metadata": {},
     "output_type": "execute_result"
    }
   ],
   "source": [
    "df['bank_category'].unique()"
   ]
  },
  {
   "attachments": {},
   "cell_type": "markdown",
   "id": "4f0546cf",
   "metadata": {},
   "source": [
    "We see that here, we got some categories that are not really banks, we need to get rid of them."
   ]
  },
  {
   "cell_type": "code",
   "execution_count": 128,
   "id": "ef7fddcd",
   "metadata": {},
   "outputs": [
    {
     "data": {
      "text/plain": [
       "array(['Banque', \"Banque d'épargne\", 'Institution financière',\n",
       "       'Établissement de crédit', nan], dtype=object)"
      ]
     },
     "execution_count": 128,
     "metadata": {},
     "output_type": "execute_result"
    }
   ],
   "source": [
    "df = df.loc[df['bank_category'].isin(['Banque', \"Banque d'épargne\", 'Institution financière', 'Établissement de crédit', np.nan])]\n",
    "df['bank_category'].unique()"
   ]
  },
  {
   "cell_type": "code",
   "execution_count": 129,
   "id": "fbe080df",
   "metadata": {},
   "outputs": [
    {
     "data": {
      "text/plain": [
       "array(['Bank Of Africa, Agence Al Massira, Maarif.', 'Citibank',\n",
       "       'Al Akhdar Bank agence casa Racine',\n",
       "       'BANK OF AFRICA, Agence Abdelmoumen, Casablanca.',\n",
       "       'Attijariwafa Bank', 'Bank Assafa - Agence PALMIER',\n",
       "       'BANK OF AFRICA', 'BANK OF AFRICA Golf', 'Bank chaabi',\n",
       "       'Bank of Africa', 'AttijariWafa Bank Blaise Pascal',\n",
       "       'Bank of Africa la Gironde', 'ATTIJARIWAFA BANK Sidi Abderrahmane',\n",
       "       'Attijariwafa Bank, Agence Rue De Rome, Mers Sultan.',\n",
       "       'Banque Attijariwafa Bank', 'Al Barid bank',\n",
       "       'BANK OF AFRICA RABAT HAY RIYAD',\n",
       "       'Attijariwafa Bank Rabat Abd. AlKhattabi', 'BMCE Bank',\n",
       "       'Bank Al Yousr', 'CFG Bank - Agence Rabat Souissi',\n",
       "       'banque populaire', 'Barid Bank', 'Umnia Bank Rabat Al Manal',\n",
       "       'AL AKHDAR BANK HAY RIAD', 'Attijariwafa bank', 'Banque Al yousr',\n",
       "       'BMCE BANK Agence Rabat Centrale', 'Tijariwafa Bank',\n",
       "       'Umnia Bank (ag. Rabat hay Ryad)', 'BANK OF AFRICA RABAT CENTRALE',\n",
       "       'Banque Populaire بنك الشعبي', 'Banque populaire',\n",
       "       'Crédit du Maroc', 'Société Générale', 'Banque Populaire', 'BMCE',\n",
       "       'al barid bank', 'AL BARID BANK',\n",
       "       'Société Générale Fes Route Ain Chkef', 'Umnia Bank Fes',\n",
       "       'CIH BANK', 'Banque CIH',\n",
       "       'Espace Libre Service - Société Générale Maroc',\n",
       "       'CFG Bank - Agence Fes', 'AttijariWafa:1 Bank',\n",
       "       'Umnia Bank Fes Es-Saada', 'Bank', 'bmce bank', 'BANK BMCE',\n",
       "       'Société Générale Marrakech Medina', 'CIH Bank',\n",
       "       'CIH Bank, Agence Marrakech, Hassan II.',\n",
       "       'Bank Assafa - Agence Marrakech', 'Umnia Bank Marrakech Medina',\n",
       "       'Attijariwafa banque', 'ATTIJARIWAFABANK',\n",
       "       'Agence Banque Populaire - البنك الشعبي',\n",
       "       'Umnia Bank Marrakech Menara', 'Société Générale Tanger Castilla',\n",
       "       'Société générale Tanger Malabata', 'cashplus tanger',\n",
       "       'Attijariwafa Bank.', 'بنك الشعبي bank populaire', 'Dar Al Amane',\n",
       "       'Umnia Bank Tanger', 'Umnia Bank Tanger Dar Tounssi',\n",
       "       'Bank Assafa - Agence Tanger Mly Ismail',\n",
       "       'Attijariwafa Bank - Tanger Gzenaya',\n",
       "       'AL AKHDAR BANK TANGER EL BOUGHAZ', 'Bmci', 'البنك الشعبي',\n",
       "       'Banque Al-Maghrib', 'Al Barid Bank',\n",
       "       'Société Générale Meknes Marjane', 'Banque Credit Agricole',\n",
       "       'attijariwafa bank touarga', 'Société Générale Meknes Medina',\n",
       "       'Cashplus Zioune', 'ATTIJARIWAFA BANK Hassane 2',\n",
       "       'Crédit Agricole', 'Bank Assafa - Agence Meknès',\n",
       "       'AttijariWafa Bank Hamria', 'Société Générale Meknes Principale',\n",
       "       'Bmce Bank Yacoub el Mansour', 'Société Générale Meknes Zitoune',\n",
       "       'Umnia Bank Meknes', 'Société Générale Safi Kennedy',\n",
       "       \"ATTIJARI WAFA BANK Centre D'Affaires\",\n",
       "       'Société Générale Safi Driss 1er', 'القروض الصغرى',\n",
       "       'Banque Populaire ag°2', 'التجاري وفا بنك',\n",
       "       'Agence Attijariwafa Bank', 'SGMB AGENCE SAFI',\n",
       "       'التجاري وفابنك - Attijariwafa Bank', 'Cashplus', 'Safaa Bank',\n",
       "       'Agence Banque Populaire', 'Banque BMCE', 'البريد بنك',\n",
       "       'Allo Multi-services Chaabi Cash', 'BMCE BANK',\n",
       "       'Banque populaire Bab Fes', 'بريد بنك',\n",
       "       'Société Générale Nador Principale', 'Bank al-Maghrib',\n",
       "       'Société Générale Kenitra Principale', 'UMB', 'Umnia Bank Safi',\n",
       "       'Banque Crédit Du Maroc', 'Société Générale Kenitra Mimosas',\n",
       "       'Crédit Agricole du Maroc - Succursale de Kénitra',\n",
       "       'Agence Al Akhdar BANK', 'Umnia Bank Nador',\n",
       "       'Banque Populaire - Succursale de Kénitra',\n",
       "       'التجاري وفا بنك Attijariwafa bank',\n",
       "       'Société Générale Kenitra Imam Ali',\n",
       "       'Société Générale Riad Kenitra', 'Banque Populaire Ibn Battouta',\n",
       "       'HAWS BANK', 'Agence BMCE Banque kenitra Avenue Mly Abdelazziz',\n",
       "       'Bank Assafa - Agence Kénitra', 'Banque Populaire D El Jadida',\n",
       "       'Tentes Méditerranée', 'Umnia Bank', 'Bank Assafa', 'Barid Banque',\n",
       "       'Société Générale Tetouan Sidi Mandri', 'Bank Al Maghreb',\n",
       "       'Al Barid Bank Tetouan Touabel', 'El Bayad Said',\n",
       "       'Umnia Bank Tetouan', 'Al AKHDAR Bank, ag Tétouan',\n",
       "       'البنك الشعبي وكالة زاكورة', 'Barid cash بريد كاش',\n",
       "       'rio de oro voyages', 'Wafasalaf Laayoune', 'Crédit Du Maroc',\n",
       "       'بنك CIH', 'Albaridbank Agence Principale', 'Base navale',\n",
       "       'Société Générale Laayoune', 'Umnia Bank Laayoune',\n",
       "       'Siège AL BARID BANK', 'SOCIETE GENERALE LAAYOUNE AL WAHDA',\n",
       "       'Société Générale Dakhla', 'Société Générale Laayoune Mohamed VI',\n",
       "       'Société Générale SETTAT LALLA AICHA', 'Wafacash',\n",
       "       'Attijariwafa Bank, Agence Settat, Avenue Des FAR.',\n",
       "       'Banque Populaire, Agence SETTAT, Moulay Youssef.',\n",
       "       'Société Générale, Agence Settat.', 'Credit agricole',\n",
       "       'Crédit Agricole Maroc', 'Espace INWI Settat',\n",
       "       'Attijariwafa Bank Agence Settat Atlas',\n",
       "       'Bmci Bnp Paribas, Agence SETTAT.',\n",
       "       'Banque Populaire, Agence FAR, Settat.',\n",
       "       'Attijariwafa Bank, Agence SETTAT, Route El Jadida.',\n",
       "       'Attijariwafa Bank, Agence SETTAT, Place Mohamed V',\n",
       "       'Umnia Bank Settat', 'Bank Of Africa, Agence Settat Principale.',\n",
       "       'LANA CASH ET CENTRE COPIE ET PUBLICTE', 'Banque Al Maghreb',\n",
       "       'Centre Monétique Interbancaire', 'AXA Crédit Ouarzazate',\n",
       "       'Credit Agricole', 'wafacash', 'BMCI', 'Poste Maroc',\n",
       "       'société générale', 'بنك الشركة العامة', 'Umnia Bank Ouarzazate',\n",
       "       'الأمانة للقروض الصغرى', 'Cash Plus', 'Bmce Agence',\n",
       "       'cashplus saada guelmim a cote la gare routiére',\n",
       "       'Umnia Bank Guelmim', 'AttijariWafa Banque', 'Canal M Berrechid',\n",
       "       'CIH Banque', 'BMCE Banque', 'Banque Populaire البنك الشعبي',\n",
       "       'Bank of africa', 'Société Générale Berrechid', 'Wafa Bank',\n",
       "       'Bank Al Yousr Berrechid', 'Umnia Berrechid', 'Attawfiq',\n",
       "       'Crédit Agricole du Maroc', 'Banque Populaire AL WIFAQ',\n",
       "       'Société Générale ANDALOUS', 'Société Générale Berkane Andalous',\n",
       "       'Fondation ALKARAMA micro-finance', 'Credit Du Maroc',\n",
       "       'Bank Assafa - Agence Berkane', 'Société Générale Berkane',\n",
       "       'Umnia Bank Berkane', 'Al Akhdar Bank Berkane', 'Agence El Amana',\n",
       "       'BMCI Banque', 'Lana cash ben seffar',\n",
       "       'la banque populaire البنك الشعبي',\n",
       "       'La Banque Populaire البنك الشعبي', 'cashplus benseffar',\n",
       "       'Société Générale Sefrou', 'CREDIT AGRICOLE', 'WafaSalaf',\n",
       "       'Bmci Taounate', 'BMCE BANK OF AFRICA', 'الأمانة للتمويل الأصغر',\n",
       "       'الشركة العامة للأبناك', 'Attijari Wafabank',\n",
       "       'Banque Populaire - Agence Ibn Sina', 'Banque BMCE Agence Essalam',\n",
       "       'Crédit Agricole Bank. Direction Régionale', 'Boujdour',\n",
       "       'Credit Immobilier Et Hotelier (Cih Standard)',\n",
       "       'CIH Bank Agence Khemisset', 'Société Générale Khemisset',\n",
       "       'CIH BANK AGENCE', 'Banque BMCE Agence Khemisset',\n",
       "       'التجاري وفابنك', 'CIH bank', 'Banque Populaire Ibn Batota'],\n",
       "      dtype=object)"
      ]
     },
     "execution_count": 129,
     "metadata": {},
     "output_type": "execute_result"
    }
   ],
   "source": [
    "df['bank_title'].unique()"
   ]
  },
  {
   "attachments": {},
   "cell_type": "markdown",
   "id": "5de800e4",
   "metadata": {},
   "source": [
    "Here, we see that there are many banks with the same name, but written in different ways. We need to fix that. We are going to use the fuzzywuzzy library to help us with that.  \n",
    "Before that ler's remove the classes that do not refer to banks."
   ]
  },
  {
   "cell_type": "code",
   "execution_count": 158,
   "id": "cb9553a1",
   "metadata": {},
   "outputs": [],
   "source": [
    "# import the function from utils/functions.py\n",
    "import sys\n",
    "import functions\n",
    "sys.path.append('../utils')\n",
    "\n",
    "# define a list of bank labels\n",
    "labels = df['bank_title'].unique()\n",
    "\n",
    "# create a dictionnary that maps each bank label to its corresponding bank\n",
    "bank_dict = functions.map_labels_to_banks(labels)"
   ]
  },
  {
   "cell_type": "code",
   "execution_count": 155,
   "id": "edfb8772",
   "metadata": {},
   "outputs": [],
   "source": [
    "# create a new column that contains the bank name\n",
    "df['bank_title_clean'] = df['bank_title'].apply(lambda x: bank_dict[x])\n",
    "\n",
    "# drop the rows that contain unknown banks\n",
    "df = df.loc[df['bank_title_clean'] != 'unknown']"
   ]
  }
 ],
 "metadata": {
  "kernelspec": {
   "display_name": "Python 3 (ipykernel)",
   "language": "python",
   "name": "python3"
  },
  "language_info": {
   "codemirror_mode": {
    "name": "ipython",
    "version": 3
   },
   "file_extension": ".py",
   "mimetype": "text/x-python",
   "name": "python",
   "nbconvert_exporter": "python",
   "pygments_lexer": "ipython3",
   "version": "3.10.6"
  }
 },
 "nbformat": 4,
 "nbformat_minor": 5
}
